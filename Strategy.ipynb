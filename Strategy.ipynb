{
  "nbformat": 4,
  "nbformat_minor": 0,
  "metadata": {
    "colab": {
      "name": "Strategy.ipynb",
      "provenance": []
    },
    "kernelspec": {
      "name": "python3",
      "display_name": "Python 3"
    },
    "language_info": {
      "name": "python"
    }
  },
  "cells": [
    {
      "cell_type": "markdown",
      "metadata": {
        "id": "L7XbFcICQJoP"
      },
      "source": [
        "#**Strategy**\n",
        "\n",
        "##**O que é:** O Strategy é um padrão de projeto comportamental que transforma um conjunto de comportamentos em objetos e os torna intercambiáveis dentro do objeto de contexto original.\n",
        "\n",
        "##**Utilidade:** Usado em várias estruturas para fornecer aos usuários uma maneira de alterar o comportamento de uma classe sem estendê-la.\n",
        "\n",
        "##**Prós e Contras:** \n",
        "##Prós:\n",
        "- Você pode trocar algoritmos usados dentro de um objeto durante a execução.\n",
        "- Você pode isolar os detalhes de implementação de um algoritmo do código que usa ele.\n",
        "- Você pode substituir a herança por composição.\n",
        "- Princípio aberto/fechado. Você pode introduzir novas estratégias sem mudar o contexto.\n",
        "\n",
        "##Contras:\n",
        "- Se você só tem um par de algoritmos e eles raramente mudam, não há motivo real para deixar o programa mais complicado com novas classes e interfaces que vêm junto com o padrão.\n",
        "- Os Clientes devem estar cientes das diferenças entre as estratégias para serem capazes de selecionar a adequada.\n",
        "- Muitas linguagens de programação modernas tem suporte do tipo funcional que permite que você implemente diferentes versões de um algoritmo dentro de um conjunto de funções anônimas. Então você poderia usar essas funções exatamente como se estivesse usando objetos estratégia, mas sem inchar seu código com classes e interfaces adicionais.\n"
      ]
    },
    {
      "cell_type": "code",
      "metadata": {
        "colab": {
          "base_uri": "https://localhost:8080/"
        },
        "id": "jqaP7vj1ST47",
        "outputId": "6b667f67-1032-4940-a63c-c80166f0a52c"
      },
      "source": [
        "from __future__ import annotations\n",
        "from abc import ABC, abstractmethod\n",
        "from typing import List\n",
        "\n",
        "\n",
        "class Context():\n",
        "    \n",
        "\n",
        "    def __init__(self, strategy: Strategy) -> None:\n",
        "        \n",
        "\n",
        "        self._strategy = strategy\n",
        "\n",
        "    @property\n",
        "    def strategy(self) -> Strategy:\n",
        "        \n",
        "\n",
        "        return self._strategy\n",
        "\n",
        "    @strategy.setter\n",
        "    def strategy(self, strategy: Strategy) -> None:\n",
        "        \n",
        "\n",
        "        self._strategy = strategy\n",
        "\n",
        "    def do_some_business_logic(self) -> None:\n",
        "        \n",
        "\n",
        "        # ...\n",
        "\n",
        "        print(\"Context: Sorting data using the strategy (not sure how it'll do it)\")\n",
        "        result = self._strategy.do_algorithm([\"a\", \"b\", \"c\", \"d\", \"e\"])\n",
        "        print(\",\".join(result))\n",
        "\n",
        "        # ...\n",
        "\n",
        "\n",
        "class Strategy(ABC):\n",
        "    \n",
        "\n",
        "    @abstractmethod\n",
        "    def do_algorithm(self, data: List):\n",
        "        pass\n",
        "\n",
        "\n",
        "\n",
        "class ConcreteStrategyA(Strategy):\n",
        "    def do_algorithm(self, data: List) -> List:\n",
        "        return sorted(data)\n",
        "\n",
        "\n",
        "class ConcreteStrategyB(Strategy):\n",
        "    def do_algorithm(self, data: List) -> List:\n",
        "        return reversed(sorted(data))\n",
        "\n",
        "\n",
        "if __name__ == \"__main__\":\n",
        "    \n",
        "\n",
        "    context = Context(ConcreteStrategyA())\n",
        "    print(\"Client: Strategy is set to normal sorting.\")\n",
        "    context.do_some_business_logic()\n",
        "    print()\n",
        "\n",
        "    print(\"Client: Strategy is set to reverse sorting.\")\n",
        "    context.strategy = ConcreteStrategyB()\n",
        "    context.do_some_business_logic()"
      ],
      "execution_count": null,
      "outputs": [
        {
          "output_type": "stream",
          "name": "stdout",
          "text": [
            "Client: Strategy is set to normal sorting.\n",
            "Context: Sorting data using the strategy (not sure how it'll do it)\n",
            "a,b,c,d,e\n",
            "\n",
            "Client: Strategy is set to reverse sorting.\n",
            "Context: Sorting data using the strategy (not sure how it'll do it)\n",
            "e,d,c,b,a\n"
          ]
        }
      ]
    }
  ]
}