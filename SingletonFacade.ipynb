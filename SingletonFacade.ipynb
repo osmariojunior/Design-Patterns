{
  "nbformat": 4,
  "nbformat_minor": 0,
  "metadata": {
    "colab": {
      "name": "SingletonFacade.ipynb",
      "provenance": [],
      "collapsed_sections": []
    },
    "kernelspec": {
      "name": "python3",
      "display_name": "Python 3"
    },
    "language_info": {
      "name": "python"
    }
  },
  "cells": [
    {
      "cell_type": "markdown",
      "metadata": {
        "id": "OeYTSIthXcKs"
      },
      "source": [
        "#Prós e Contras do Singleton\n",
        "\n",
        "##Prós:\n",
        "- Você pode ter certeza que uma classe só terá uma única instância.\n",
        "- Você ganha um ponto de acesso global para aquela instância.\n",
        "- O objeto singleton é inicializado somente quando for pedido pela primeira vez.\n",
        "\n",
        "##Contras:\n",
        "- Viola o princípio de responsabilidade única. O padrão resolve dois problemas de uma só vez.\n",
        "- O padrão Singleton pode mascarar um design ruim, por exemplo, quando os componentes do programa sabem muito sobre cada um.\n",
        "- O padrão requer tratamento especial em um ambiente multithreaded para que múltiplas threads não possam criar um objeto singleton várias vezes.\n",
        "- Pode ser difícil realizar testes unitários do código cliente do Singleton porque muitos frameworks de teste dependem de herança quando produzem objetos simulados. Já que o construtor da classe singleton é privado e sobrescrever métodos estáticos é impossível na maioria das linguagem, você terá que pensar em uma maneira criativa de simular o singleton. Ou apenas não escreva os testes. Ou não use o padrão Singleton.\n"
      ]
    },
    {
      "cell_type": "code",
      "metadata": {
        "colab": {
          "base_uri": "https://localhost:8080/"
        },
        "id": "HuB08PGIZZp4",
        "outputId": "476fe6b1-e7a3-417e-964e-c8a77965c538"
      },
      "source": [
        "class SingletonMeta(type):\n",
        "\n",
        "    _instances = {}\n",
        "\n",
        "    def __call__(cls, *args, **kwargs):\n",
        "        \n",
        "        if cls not in cls._instances:\n",
        "            instance = super().__call__(*args, **kwargs)\n",
        "            cls._instances[cls] = instance\n",
        "        return cls._instances[cls]\n",
        "\n",
        "\n",
        "class Singleton(metaclass=SingletonMeta):\n",
        "    def logica_negocio(self):\n",
        "        \"\"\"\n",
        "        Qualquer singleton deve definir alguma lógica de negócios, que pode ser\n",
        "         executado em sua instância.\n",
        "        \"\"\"\n",
        "\n",
        "        # ...\n",
        "\n",
        "\n",
        "if __name__ == \"__main__\":\n",
        "    # The client code.\n",
        "\n",
        "    s1 = Singleton()\n",
        "    s2 = Singleton()\n",
        "\n",
        "    if id(s1) == id(s2):\n",
        "        print(\"Singleton funciona, ambas as variáveis contêm a mesma instância.\")\n",
        "    else:\n",
        "        print(\"Singleton falhou, as variáveis contêm instâncias diferentes.\")"
      ],
      "execution_count": null,
      "outputs": [
        {
          "output_type": "stream",
          "name": "stdout",
          "text": [
            "Singleton funciona, ambas as variáveis contêm a mesma instância.\n"
          ]
        }
      ]
    },
    {
      "cell_type": "markdown",
      "metadata": {
        "id": "EAtRSnuocJdf"
      },
      "source": [
        "#Prós e Contras do Facade\n",
        "\n",
        "##Prós:\n",
        "- Você pode isolar seu código da complexidade de um subsistema.\n",
        "\n",
        "##Contras: \n",
        "- Uma fachada pode se tornar um objeto deus acoplado a todas as classes de uma aplicação.\n"
      ]
    },
    {
      "cell_type": "code",
      "metadata": {
        "colab": {
          "base_uri": "https://localhost:8080/"
        },
        "id": "SKXa6gqUdUaN",
        "outputId": "c9402151-6c9c-4f79-9ee8-c5816a43be03"
      },
      "source": [
        "from __future__ import annotations\n",
        "\n",
        "\n",
        "class Facade:\n",
        "\n",
        "    def __init__(self, subsystem1: Subsystem1, subsystem2: Subsystem2) -> None:\n",
        "\n",
        "        self._subsystem1 = subsystem1 or Subsystem1()\n",
        "        self._subsystem2 = subsystem2 or Subsystem2()\n",
        "\n",
        "    def operation(self) -> str:\n",
        "        \n",
        "        results = []\n",
        "        results.append(\"Subsistema facade inicializado\")\n",
        "        results.append(self._subsystem1.operation1())\n",
        "        results.append(self._subsystem2.operation1())\n",
        "        results.append(\"O facade ordena os subsistemas para executar a ação:\")\n",
        "        results.append(self._subsystem1.operation_n())\n",
        "        results.append(self._subsystem2.operation_z())\n",
        "        return \"\\n\".join(results)\n",
        "\n",
        "\n",
        "class Subsystem1:\n",
        "\n",
        "    def operation1(self) -> str:\n",
        "        return \"Subsystem1: Pronto!\"\n",
        "\n",
        "    # ...\n",
        "\n",
        "    def operation_n(self) -> str:\n",
        "        return \"Subsystem1: Ir!\"\n",
        "\n",
        "\n",
        "class Subsystem2:\n",
        "\n",
        "    def operation1(self) -> str:\n",
        "        return \"Subsystem2: Preparar!\"\n",
        "\n",
        "    # ...\n",
        "\n",
        "    def operation_z(self) -> str:\n",
        "        return \"Subsystem2: Disparar!\"\n",
        "\n",
        "\n",
        "def client_code(facade: Facade) -> None:\n",
        "\n",
        "    print(facade.operation(), end=\"\")\n",
        "\n",
        "\n",
        "if __name__ == \"__main__\":\n",
        "    # O código do cliente pode ter alguns dos objetos do subsistema já criados.\n",
        "    # Nesse caso, pode valer a pena inicializar a facade com esses\n",
        "    # objetos em vez de permitir que o Facade crie novas instâncias.\n",
        "    subsystem1 = Subsystem1()\n",
        "    subsystem2 = Subsystem2()\n",
        "    facade = Facade(subsystem1, subsystem2)\n",
        "    client_code(facade)"
      ],
      "execution_count": null,
      "outputs": [
        {
          "output_type": "stream",
          "name": "stdout",
          "text": [
            "Subsistema facade inicializado\n",
            "Subsystem1: Pronto!\n",
            "Subsystem2: Preparar!\n",
            "O facade ordena os subsistemas para executar a ação:\n",
            "Subsystem1: Ir!\n",
            "Subsystem2: Disparar!"
          ]
        }
      ]
    }
  ]
}